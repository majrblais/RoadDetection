{
 "cells": [
  {
   "cell_type": "code",
   "execution_count": 22,
   "id": "e99d0ba5-dda6-4765-8d7a-e15034e2722e",
   "metadata": {},
   "outputs": [
    {
     "name": "stdout",
     "output_type": "stream",
     "text": [
      "{0: 295598916, 1: 4401084}\n"
     ]
    }
   ],
   "source": [
    "import numpy as np\n",
    "from PIL import Image\n",
    "import cv2\n",
    "# Load the TIFF file\n",
    "tiff_file = '000000000000.tif'\n",
    "mask = cv2.imread(tiff_file)\n",
    "unique, counts = np.unique(mask, return_counts=True)\n",
    "values=dict(zip(unique, counts))\n",
    "print(values)"
   ]
  },
  {
   "cell_type": "code",
   "execution_count": 23,
   "id": "2a9aa77b-5274-4e9d-b3fe-f0022c47c661",
   "metadata": {},
   "outputs": [],
   "source": [
    "import os\n",
    "import numpy as np\n",
    "from PIL import Image\n",
    "\n",
    "def process_tiff_images(input_folder, output_folder):\n",
    "    # Create the output folder if it doesn't exist\n",
    "    if not os.path.exists(output_folder):\n",
    "        os.makedirs(output_folder)\n",
    "    \n",
    "    # Process each TIFF file in the input folder\n",
    "    for file_name in os.listdir(input_folder):\n",
    "        if file_name.endswith('.tif') or file_name.endswith('.tiff'):\n",
    "            # Read the image\n",
    "            img_path = os.path.join(input_folder, file_name)\n",
    "            img = cv2.imread(img_path, cv2.IMREAD_GRAYSCALE)\n",
    "            \n",
    "            # Change pixels with value 2 to 1\n",
    "            img[img == 2] = 1\n",
    "            \n",
    "            # Save the modified image to the output folder\n",
    "            output_path = os.path.join(output_folder, file_name)\n",
    "            #cv2.imwrite(output_path, img, [cv2.IMWRITE_TIFF_COMPRESSION, 1])\n",
    "            modified_img = Image.fromarray(img)\n",
    "            modified_img.save(output_path, format='TIFF', compression='tiff_lzw')\n",
    "\n",
    "\n",
    "# Define the input and output folders\n",
    "input_folder = './data/images2/'\n",
    "output_folder = './data/images2_b/'\n",
    "\n",
    "# Call the function\n",
    "process_tiff_images(input_folder, output_folder)\n"
   ]
  },
  {
   "cell_type": "code",
   "execution_count": null,
   "id": "74bc64a4-0b6f-47a6-b20c-e1439f7c5260",
   "metadata": {},
   "outputs": [],
   "source": []
  },
  {
   "cell_type": "code",
   "execution_count": null,
   "id": "bdc05f99-de3a-4d1c-8a76-776eb8e61e42",
   "metadata": {},
   "outputs": [],
   "source": []
  }
 ],
 "metadata": {
  "kernelspec": {
   "display_name": "Python 3 (ipykernel)",
   "language": "python",
   "name": "python3"
  },
  "language_info": {
   "codemirror_mode": {
    "name": "ipython",
    "version": 3
   },
   "file_extension": ".py",
   "mimetype": "text/x-python",
   "name": "python",
   "nbconvert_exporter": "python",
   "pygments_lexer": "ipython3",
   "version": "3.12.0"
  }
 },
 "nbformat": 4,
 "nbformat_minor": 5
}
