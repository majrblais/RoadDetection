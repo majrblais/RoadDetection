{
 "cells": [
  {
   "cell_type": "code",
   "execution_count": 1,
   "id": "2a38bbbb-b9c3-434b-a3d5-e0d5151105f9",
   "metadata": {},
   "outputs": [
    {
     "name": "stderr",
     "output_type": "stream",
     "text": [
      "ERROR:root:Internal Python error in the inspect module.\n",
      "Below is the traceback from this internal error.\n",
      "\n"
     ]
    },
    {
     "name": "stdout",
     "output_type": "stream",
     "text": [
      "Traceback (most recent call last):\n",
      "  File \"C:\\Users\\marcb\\AppData\\Roaming\\Python\\Python38\\site-packages\\IPython\\core\\interactiveshell.py\", line 3441, in run_code\n",
      "    exec(code_obj, self.user_global_ns, self.user_ns)\n",
      "  File \"C:\\Users\\marcb\\AppData\\Local\\Temp\\ipykernel_11924\\434129759.py\", line 4, in <module>\n",
      "    import numpy as np\n",
      "  File \"E:\\anaconda3\\envs\\segmentation\\lib\\site-packages\\numpy\\__init__.py\", line 151, in <module>\n",
      "    from . import polynomial\n",
      "  File \"E:\\anaconda3\\envs\\segmentation\\lib\\site-packages\\numpy\\polynomial\\__init__.py\", line 116, in <module>\n",
      "    from .polynomial import Polynomial\n",
      "  File \"E:\\anaconda3\\envs\\segmentation\\lib\\site-packages\\numpy\\polynomial\\polynomial.py\", line 87, in <module>\n",
      "    from ._polybase import ABCPolyBase\n",
      "  File \"<frozen importlib._bootstrap>\", line 991, in _find_and_load\n",
      "  File \"<frozen importlib._bootstrap>\", line 971, in _find_and_load_unlocked\n",
      "  File \"<frozen importlib._bootstrap>\", line 914, in _find_spec\n",
      "  File \"<frozen importlib._bootstrap_external>\", line 1407, in find_spec\n",
      "  File \"<frozen importlib._bootstrap_external>\", line 1379, in _get_spec\n",
      "  File \"<frozen importlib._bootstrap_external>\", line 1539, in find_spec\n",
      "  File \"<frozen importlib._bootstrap_external>\", line 156, in _path_isfile\n",
      "  File \"<frozen importlib._bootstrap_external>\", line 148, in _path_is_mode_type\n",
      "  File \"<frozen importlib._bootstrap_external>\", line 142, in _path_stat\n",
      "KeyboardInterrupt\n",
      "\n",
      "During handling of the above exception, another exception occurred:\n",
      "\n",
      "Traceback (most recent call last):\n",
      "  File \"C:\\Users\\marcb\\AppData\\Roaming\\Python\\Python38\\site-packages\\IPython\\core\\interactiveshell.py\", line 2061, in showtraceback\n",
      "    stb = value._render_traceback_()\n",
      "AttributeError: 'KeyboardInterrupt' object has no attribute '_render_traceback_'\n",
      "\n",
      "During handling of the above exception, another exception occurred:\n",
      "\n",
      "Traceback (most recent call last):\n",
      "  File \"C:\\Users\\marcb\\AppData\\Roaming\\Python\\Python38\\site-packages\\IPython\\core\\ultratb.py\", line 1101, in get_records\n",
      "    return _fixed_getinnerframes(etb, number_of_lines_of_context, tb_offset)\n",
      "  File \"C:\\Users\\marcb\\AppData\\Roaming\\Python\\Python38\\site-packages\\IPython\\core\\ultratb.py\", line 248, in wrapped\n",
      "    return f(*args, **kwargs)\n",
      "  File \"C:\\Users\\marcb\\AppData\\Roaming\\Python\\Python38\\site-packages\\IPython\\core\\ultratb.py\", line 281, in _fixed_getinnerframes\n",
      "    records = fix_frame_records_filenames(inspect.getinnerframes(etb, context))\n",
      "  File \"E:\\anaconda3\\envs\\segmentation\\lib\\inspect.py\", line 1515, in getinnerframes\n",
      "    frameinfo = (tb.tb_frame,) + getframeinfo(tb, context)\n",
      "  File \"E:\\anaconda3\\envs\\segmentation\\lib\\inspect.py\", line 1473, in getframeinfo\n",
      "    filename = getsourcefile(frame) or getfile(frame)\n",
      "  File \"E:\\anaconda3\\envs\\segmentation\\lib\\inspect.py\", line 708, in getsourcefile\n",
      "    if getattr(getmodule(object, filename), '__loader__', None) is not None:\n",
      "  File \"E:\\anaconda3\\envs\\segmentation\\lib\\inspect.py\", line 754, in getmodule\n",
      "    os.path.realpath(f)] = module.__name__\n",
      "  File \"E:\\anaconda3\\envs\\segmentation\\lib\\ntpath.py\", line 664, in realpath\n",
      "    if _getfinalpathname(spath) == path:\n",
      "KeyboardInterrupt\n"
     ]
    },
    {
     "name": "stderr",
     "output_type": "stream",
     "text": [
      "\n",
      "KeyboardInterrupt\n",
      "\n"
     ]
    }
   ],
   "source": [
    "import os\n",
    "os.environ[\"SM_FRAMEWORK\"] = \"tf.keras\"\n",
    "\n",
    "import numpy as np\n",
    "import segmentation_models as sm\n",
    "import cv2\n",
    "\n",
    "from tensorflow import keras\n",
    "from tensorflow.keras.preprocessing.image import ImageDataGenerator\n",
    "\n",
    "# Define parameters\n",
    "encoder = 'inceptionresnetv2'\n",
    "learning_rate = 0.0001\n",
    "model_type = 'Unet'\n",
    "weights_path = 'Unet_inceptionresnetv2_0.0001.h5'  # Replace with the path to your weights file\n",
    "input_dir = './val'   # Replace with the path to your input images directory\n",
    "output_dir = './mv'  # Replace with the path to your output directory\n",
    "\n",
    "os.makedirs(output_dir, exist_ok=True)\n",
    "\n",
    "# Select backbone and preprocessing function\n",
    "BACKBONE = encoder\n",
    "preprocess_input = sm.get_preprocessing(BACKBONE)\n",
    "CLASSES = ['road']\n",
    "\n",
    "# Create data generator for input images\n",
    "data_generator = ImageDataGenerator(preprocessing_function=preprocess_input)\n",
    "\n",
    "# Flow from directory\n",
    "input_generator = data_generator.flow_from_directory(\n",
    "    directory=input_dir,\n",
    "    target_size=(512, 512),\n",
    "    batch_size=1,\n",
    "    class_mode=None,\n",
    "    shuffle=False,\n",
    "    seed=42\n",
    ")\n",
    "\n",
    "model = getattr(sm, model_type)(BACKBONE, classes=1, activation='sigmoid')\n",
    "model.load_weights(weights_path)\n",
    "\n",
    "# Predict and save results\n",
    "for i in range(len(input_generator)):\n",
    "    image = input_generator[i]\n",
    "    prediction = model.predict(image)\n",
    "    prediction = (prediction > 0.5).astype(np.uint8) * 255\n",
    "    output_path = os.path.join(output_dir, f\"prediction_{i}.png\")\n",
    "    cv2.imwrite(output_path, prediction[0, :, :, 0])\n",
    "\n",
    "print(f\"Predictions saved in the '{output_dir}' folder.\")"
   ]
  },
  {
   "cell_type": "code",
   "execution_count": null,
   "id": "9480771b-0cfe-466d-b516-59a9a6d05032",
   "metadata": {},
   "outputs": [],
   "source": []
  }
 ],
 "metadata": {
  "kernelspec": {
   "display_name": "Python 3 (ipykernel)",
   "language": "python",
   "name": "python3"
  },
  "language_info": {
   "codemirror_mode": {
    "name": "ipython",
    "version": 3
   },
   "file_extension": ".py",
   "mimetype": "text/x-python",
   "name": "python",
   "nbconvert_exporter": "python",
   "pygments_lexer": "ipython3",
   "version": "3.8.19"
  }
 },
 "nbformat": 4,
 "nbformat_minor": 5
}
