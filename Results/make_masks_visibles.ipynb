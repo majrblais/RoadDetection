{
 "cells": [
  {
   "cell_type": "code",
   "execution_count": 1,
   "id": "c21ded1d-a097-46c3-93a4-4498afa7b345",
   "metadata": {},
   "outputs": [
    {
     "name": "stdout",
     "output_type": "stream",
     "text": [
      "Processed images have been saved in the './v3_val_small/visible_masks' folder.\n"
     ]
    }
   ],
   "source": [
    "import os\n",
    "import cv2\n",
    "import numpy as np\n",
    "\n",
    "# Define the input and output directories\n",
    "input_dir = './v3_val_small/masks/'  # Replace with the path to your input images directory\n",
    "output_dir = './v3_val_small/visible_masks'  # Replace with the path to your output directory\n",
    "\n",
    "# Ensure the output directory exists\n",
    "os.makedirs(output_dir, exist_ok=True)\n",
    "\n",
    "# Process each image in the input directory\n",
    "for filename in os.listdir(input_dir):\n",
    "    if filename.endswith('.tif') or filename.endswith('.jpg') or filename.endswith('.jpeg'):\n",
    "        # Read the image in grayscale\n",
    "        image_path = os.path.join(input_dir, filename)\n",
    "        image = cv2.imread(image_path, cv2.IMREAD_GRAYSCALE)\n",
    "        \n",
    "        # Check if the image is binary (0s and 1s) and scale it up to 0-255\n",
    "        if np.unique(image).tolist() == [0, 1]:  # If the image only contains 0 and 1\n",
    "            processed_image = image * 255\n",
    "        else:\n",
    "            # Normalize the image to the range 0-255 if not binary\n",
    "            processed_image = cv2.normalize(image, None, 0, 255, cv2.NORM_MINMAX)\n",
    "        \n",
    "        # Ensure the pixel values are within the valid range\n",
    "        processed_image = np.clip(processed_image, 0, 255).astype(np.uint8)\n",
    "        \n",
    "        # Save the processed image to the output directory\n",
    "        output_path = os.path.join(output_dir, filename)\n",
    "        cv2.imwrite(output_path, processed_image)\n",
    "\n",
    "print(f\"Processed images have been saved in the '{output_dir}' folder.\")\n"
   ]
  },
  {
   "cell_type": "code",
   "execution_count": null,
   "id": "da4bf561-bc5f-4fad-be6c-a71ccf24cbc8",
   "metadata": {},
   "outputs": [],
   "source": []
  }
 ],
 "metadata": {
  "kernelspec": {
   "display_name": "Python 3 (ipykernel)",
   "language": "python",
   "name": "python3"
  },
  "language_info": {
   "codemirror_mode": {
    "name": "ipython",
    "version": 3
   },
   "file_extension": ".py",
   "mimetype": "text/x-python",
   "name": "python",
   "nbconvert_exporter": "python",
   "pygments_lexer": "ipython3",
   "version": "3.8.19"
  }
 },
 "nbformat": 4,
 "nbformat_minor": 5
}
