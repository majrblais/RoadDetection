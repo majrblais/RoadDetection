{
 "cells": [
  {
   "cell_type": "code",
   "execution_count": 1,
   "id": "2a38bbbb-b9c3-434b-a3d5-e0d5151105f9",
   "metadata": {},
   "outputs": [
    {
     "ename": "ModuleNotFoundError",
     "evalue": "No module named 'segmentation_models'",
     "output_type": "error",
     "traceback": [
      "\u001b[1;31m---------------------------------------------------------------------------\u001b[0m",
      "\u001b[1;31mModuleNotFoundError\u001b[0m                       Traceback (most recent call last)",
      "Cell \u001b[1;32mIn[1], line 5\u001b[0m\n\u001b[0;32m      2\u001b[0m os\u001b[38;5;241m.\u001b[39menviron[\u001b[38;5;124m\"\u001b[39m\u001b[38;5;124mSM_FRAMEWORK\u001b[39m\u001b[38;5;124m\"\u001b[39m] \u001b[38;5;241m=\u001b[39m \u001b[38;5;124m\"\u001b[39m\u001b[38;5;124mtf.keras\u001b[39m\u001b[38;5;124m\"\u001b[39m\n\u001b[0;32m      4\u001b[0m \u001b[38;5;28;01mimport\u001b[39;00m \u001b[38;5;21;01mnumpy\u001b[39;00m \u001b[38;5;28;01mas\u001b[39;00m \u001b[38;5;21;01mnp\u001b[39;00m\n\u001b[1;32m----> 5\u001b[0m \u001b[38;5;28;01mimport\u001b[39;00m \u001b[38;5;21;01msegmentation_models\u001b[39;00m \u001b[38;5;28;01mas\u001b[39;00m \u001b[38;5;21;01msm\u001b[39;00m\n\u001b[0;32m      6\u001b[0m \u001b[38;5;28;01mimport\u001b[39;00m \u001b[38;5;21;01mcv2\u001b[39;00m\n\u001b[0;32m      8\u001b[0m \u001b[38;5;28;01mfrom\u001b[39;00m \u001b[38;5;21;01mtensorflow\u001b[39;00m \u001b[38;5;28;01mimport\u001b[39;00m keras\n",
      "\u001b[1;31mModuleNotFoundError\u001b[0m: No module named 'segmentation_models'"
     ]
    }
   ],
   "source": [
    "import os\n",
    "os.environ[\"SM_FRAMEWORK\"] = \"tf.keras\"\n",
    "\n",
    "import numpy as np\n",
    "import segmentation_models as sm\n",
    "import cv2\n",
    "\n",
    "from tensorflow import keras\n",
    "from tensorflow.keras.preprocessing.image import ImageDataGenerator\n",
    "\n",
    "# Define parameters\n",
    "encoder = 'inceptionresnetv2'\n",
    "learning_rate = 0.0001\n",
    "model_type = 'Unet'\n",
    "weights_path = 'Unet_inceptionresnetv2_0.0001.h5'  # Replace with the path to your weights file\n",
    "input_dir = './val'   # Replace with the path to your input images directory\n",
    "output_dir = './mv'  # Replace with the path to your output directory\n",
    "\n",
    "# Ensure the output directory exists\n",
    "os.makedirs(output_dir, exist_ok=True)\n",
    "\n",
    "# Select backbone and preprocessing function\n",
    "BACKBONE = encoder\n",
    "preprocess_input = sm.get_preprocessing(BACKBONE)\n",
    "CLASSES = ['road']\n",
    "\n",
    "# Create data generator for input images\n",
    "data_generator = ImageDataGenerator(preprocessing_function=preprocess_input)\n",
    "\n",
    "# Flow from directory\n",
    "input_generator = data_generator.flow_from_directory(\n",
    "    directory=input_dir,\n",
    "    target_size=(512, 512),\n",
    "    batch_size=1,\n",
    "    class_mode=None,\n",
    "    shuffle=False,\n",
    "    seed=42\n",
    ")\n",
    "\n",
    "model = getattr(sm, model_type)(BACKBONE, classes=1, activation='sigmoid')\n",
    "model.load_weights(weights_path)\n",
    "\n",
    "# Predict and save results\n",
    "for i in range(len(input_generator)):\n",
    "    image = input_generator[i]\n",
    "    prediction = model.predict(image)\n",
    "    prediction = (prediction > 0.5).astype(np.uint8) * 255\n",
    "    output_path = os.path.join(output_dir, f\"prediction_{i}.png\")\n",
    "    cv2.imwrite(output_path, prediction[0, :, :, 0])\n",
    "\n",
    "print(f\"Predictions saved in the '{output_dir}' folder.\")"
   ]
  },
  {
   "cell_type": "code",
   "execution_count": null,
   "id": "9480771b-0cfe-466d-b516-59a9a6d05032",
   "metadata": {},
   "outputs": [],
   "source": []
  }
 ],
 "metadata": {
  "kernelspec": {
   "display_name": "Python 3 (ipykernel)",
   "language": "python",
   "name": "python3"
  },
  "language_info": {
   "codemirror_mode": {
    "name": "ipython",
    "version": 3
   },
   "file_extension": ".py",
   "mimetype": "text/x-python",
   "name": "python",
   "nbconvert_exporter": "python",
   "pygments_lexer": "ipython3",
   "version": "3.12.0"
  }
 },
 "nbformat": 4,
 "nbformat_minor": 5
}
